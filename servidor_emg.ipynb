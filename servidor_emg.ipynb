{
 "cells": [
  {
   "cell_type": "code",
   "execution_count": 1,
   "id": "e74da203",
   "metadata": {},
   "outputs": [],
   "source": [
    "from flask import Flask, request, jsonify\n",
    "from flask_cors import CORS"
   ]
  },
  {
   "cell_type": "code",
   "execution_count": 2,
   "id": "0e9f3953",
   "metadata": {},
   "outputs": [
    {
     "data": {
      "text/plain": [
       "<flask_cors.extension.CORS at 0x2b2940aeed0>"
      ]
     },
     "execution_count": 2,
     "metadata": {},
     "output_type": "execute_result"
    }
   ],
   "source": [
    "from flask import Flask\n",
    "from flask_cors import CORS\n",
    "\n",
    "app = Flask(__name__)\n",
    "CORS(app)  "
   ]
  },
  {
   "cell_type": "code",
   "execution_count": 5,
   "id": "2487e727",
   "metadata": {},
   "outputs": [
    {
     "name": "stdout",
     "output_type": "stream",
     "text": [
      " * Serving Flask app '__main__'\n",
      " * Debug mode: off\n"
     ]
    },
    {
     "name": "stderr",
     "output_type": "stream",
     "text": [
      "WARNING: This is a development server. Do not use it in a production deployment. Use a production WSGI server instead.\n",
      " * Running on all addresses (0.0.0.0)\n",
      " * Running on http://127.0.0.1:5000\n",
      " * Running on http://192.168.111.54:5000\n",
      "Press CTRL+C to quit\n",
      "127.0.0.1 - - [30/May/2025 13:14:36] \"POST /estado HTTP/1.1\" 200 -\n"
     ]
    },
    {
     "name": "stdout",
     "output_type": "stream",
     "text": [
      "Estado recibido: {'estado': 'reposo'}\n"
     ]
    },
    {
     "name": "stderr",
     "output_type": "stream",
     "text": [
      "127.0.0.1 - - [30/May/2025 13:14:40] \"POST /estado HTTP/1.1\" 200 -\n"
     ]
    },
    {
     "name": "stdout",
     "output_type": "stream",
     "text": [
      "Estado recibido: {'estado': 'contracción'}\n"
     ]
    },
    {
     "name": "stderr",
     "output_type": "stream",
     "text": [
      "127.0.0.1 - - [30/May/2025 13:14:42] \"POST /estado HTTP/1.1\" 200 -\n"
     ]
    },
    {
     "name": "stdout",
     "output_type": "stream",
     "text": [
      "Estado recibido: {'estado': 'reposo'}\n"
     ]
    },
    {
     "name": "stderr",
     "output_type": "stream",
     "text": [
      "127.0.0.1 - - [30/May/2025 13:14:45] \"POST /estado HTTP/1.1\" 200 -\n"
     ]
    },
    {
     "name": "stdout",
     "output_type": "stream",
     "text": [
      "Estado recibido: {'estado': 'contracción'}\n"
     ]
    },
    {
     "name": "stderr",
     "output_type": "stream",
     "text": [
      "127.0.0.1 - - [30/May/2025 13:14:47] \"POST /estado HTTP/1.1\" 200 -\n"
     ]
    },
    {
     "name": "stdout",
     "output_type": "stream",
     "text": [
      "Estado recibido: {'estado': 'reposo'}\n"
     ]
    },
    {
     "name": "stderr",
     "output_type": "stream",
     "text": [
      "127.0.0.1 - - [30/May/2025 13:15:01] \"POST /estado HTTP/1.1\" 200 -\n"
     ]
    },
    {
     "name": "stdout",
     "output_type": "stream",
     "text": [
      "Estado recibido: {'estado': 'contracción'}\n"
     ]
    },
    {
     "name": "stderr",
     "output_type": "stream",
     "text": [
      "127.0.0.1 - - [30/May/2025 13:15:03] \"POST /estado HTTP/1.1\" 200 -\n"
     ]
    },
    {
     "name": "stdout",
     "output_type": "stream",
     "text": [
      "Estado recibido: {'estado': 'reposo'}\n"
     ]
    },
    {
     "name": "stderr",
     "output_type": "stream",
     "text": [
      "127.0.0.1 - - [30/May/2025 13:15:09] \"POST /estado HTTP/1.1\" 200 -\n"
     ]
    },
    {
     "name": "stdout",
     "output_type": "stream",
     "text": [
      "Estado recibido: {'estado': 'contracción'}\n"
     ]
    },
    {
     "name": "stderr",
     "output_type": "stream",
     "text": [
      "127.0.0.1 - - [30/May/2025 13:15:11] \"POST /estado HTTP/1.1\" 200 -\n"
     ]
    },
    {
     "name": "stdout",
     "output_type": "stream",
     "text": [
      "Estado recibido: {'estado': 'reposo'}\n"
     ]
    },
    {
     "name": "stderr",
     "output_type": "stream",
     "text": [
      "127.0.0.1 - - [30/May/2025 13:15:13] \"POST /estado HTTP/1.1\" 200 -\n"
     ]
    },
    {
     "name": "stdout",
     "output_type": "stream",
     "text": [
      "Estado recibido: {'estado': 'contracción'}\n"
     ]
    },
    {
     "name": "stderr",
     "output_type": "stream",
     "text": [
      "127.0.0.1 - - [30/May/2025 13:15:15] \"POST /estado HTTP/1.1\" 200 -\n"
     ]
    },
    {
     "name": "stdout",
     "output_type": "stream",
     "text": [
      "Estado recibido: {'estado': 'reposo'}\n"
     ]
    },
    {
     "name": "stderr",
     "output_type": "stream",
     "text": [
      "127.0.0.1 - - [30/May/2025 13:15:17] \"POST /estado HTTP/1.1\" 200 -\n"
     ]
    },
    {
     "name": "stdout",
     "output_type": "stream",
     "text": [
      "Estado recibido: {'estado': 'contracción'}\n"
     ]
    },
    {
     "name": "stderr",
     "output_type": "stream",
     "text": [
      "127.0.0.1 - - [30/May/2025 13:15:19] \"POST /estado HTTP/1.1\" 200 -\n"
     ]
    },
    {
     "name": "stdout",
     "output_type": "stream",
     "text": [
      "Estado recibido: {'estado': 'reposo'}\n"
     ]
    },
    {
     "name": "stderr",
     "output_type": "stream",
     "text": [
      "127.0.0.1 - - [30/May/2025 13:15:21] \"POST /estado HTTP/1.1\" 200 -\n"
     ]
    },
    {
     "name": "stdout",
     "output_type": "stream",
     "text": [
      "Estado recibido: {'estado': 'contracción'}\n"
     ]
    },
    {
     "name": "stderr",
     "output_type": "stream",
     "text": [
      "127.0.0.1 - - [30/May/2025 13:15:23] \"POST /estado HTTP/1.1\" 200 -\n"
     ]
    },
    {
     "name": "stdout",
     "output_type": "stream",
     "text": [
      "Estado recibido: {'estado': 'reposo'}\n"
     ]
    },
    {
     "name": "stderr",
     "output_type": "stream",
     "text": [
      "127.0.0.1 - - [30/May/2025 13:15:25] \"POST /estado HTTP/1.1\" 200 -\n"
     ]
    },
    {
     "name": "stdout",
     "output_type": "stream",
     "text": [
      "Estado recibido: {'estado': 'contracción'}\n"
     ]
    },
    {
     "name": "stderr",
     "output_type": "stream",
     "text": [
      "127.0.0.1 - - [30/May/2025 13:15:26] \"GET /estado HTTP/1.1\" 200 -\n",
      "127.0.0.1 - - [30/May/2025 13:15:26] \"GET /estado HTTP/1.1\" 200 -\n",
      "127.0.0.1 - - [30/May/2025 13:15:26] \"GET /estado HTTP/1.1\" 200 -\n",
      "127.0.0.1 - - [30/May/2025 13:15:27] \"GET /estado HTTP/1.1\" 200 -\n",
      "127.0.0.1 - - [30/May/2025 13:15:27] \"GET /estado HTTP/1.1\" 200 -\n",
      "127.0.0.1 - - [30/May/2025 13:15:28] \"POST /estado HTTP/1.1\" 200 -\n",
      "127.0.0.1 - - [30/May/2025 13:15:28] \"GET /estado HTTP/1.1\" 200 -\n"
     ]
    },
    {
     "name": "stdout",
     "output_type": "stream",
     "text": [
      "Estado recibido: {'estado': 'reposo'}\n"
     ]
    },
    {
     "name": "stderr",
     "output_type": "stream",
     "text": [
      "127.0.0.1 - - [30/May/2025 13:15:28] \"GET /estado HTTP/1.1\" 200 -\n",
      "127.0.0.1 - - [30/May/2025 13:15:29] \"GET /estado HTTP/1.1\" 200 -\n",
      "127.0.0.1 - - [30/May/2025 13:15:29] \"GET /estado HTTP/1.1\" 200 -\n",
      "127.0.0.1 - - [30/May/2025 13:15:29] \"GET /estado HTTP/1.1\" 200 -\n",
      "127.0.0.1 - - [30/May/2025 13:15:30] \"POST /estado HTTP/1.1\" 200 -\n",
      "127.0.0.1 - - [30/May/2025 13:15:30] \"GET /estado HTTP/1.1\" 200 -\n"
     ]
    },
    {
     "name": "stdout",
     "output_type": "stream",
     "text": [
      "Estado recibido: {'estado': 'contracción'}\n"
     ]
    },
    {
     "name": "stderr",
     "output_type": "stream",
     "text": [
      "127.0.0.1 - - [30/May/2025 13:15:30] \"GET /estado HTTP/1.1\" 200 -\n",
      "127.0.0.1 - - [30/May/2025 13:15:31] \"GET /estado HTTP/1.1\" 200 -\n",
      "127.0.0.1 - - [30/May/2025 13:15:31] \"GET /estado HTTP/1.1\" 200 -\n",
      "127.0.0.1 - - [30/May/2025 13:15:31] \"GET /estado HTTP/1.1\" 200 -\n",
      "127.0.0.1 - - [30/May/2025 13:15:32] \"POST /estado HTTP/1.1\" 200 -\n"
     ]
    },
    {
     "name": "stdout",
     "output_type": "stream",
     "text": [
      "Estado recibido: {'estado': 'reposo'}\n"
     ]
    },
    {
     "name": "stderr",
     "output_type": "stream",
     "text": [
      "127.0.0.1 - - [30/May/2025 13:15:32] \"GET /estado HTTP/1.1\" 200 -\n",
      "127.0.0.1 - - [30/May/2025 13:15:32] \"GET /estado HTTP/1.1\" 200 -\n",
      "127.0.0.1 - - [30/May/2025 13:15:32] \"GET /estado HTTP/1.1\" 200 -\n",
      "127.0.0.1 - - [30/May/2025 13:15:33] \"GET /estado HTTP/1.1\" 200 -\n",
      "127.0.0.1 - - [30/May/2025 13:15:33] \"GET /estado HTTP/1.1\" 200 -\n",
      "127.0.0.1 - - [30/May/2025 13:15:34] \"GET /estado HTTP/1.1\" 200 -\n",
      "127.0.0.1 - - [30/May/2025 13:15:34] \"GET /estado HTTP/1.1\" 200 -\n",
      "127.0.0.1 - - [30/May/2025 13:15:35] \"GET /estado HTTP/1.1\" 200 -\n",
      "127.0.0.1 - - [30/May/2025 13:15:35] \"GET /estado HTTP/1.1\" 200 -\n",
      "127.0.0.1 - - [30/May/2025 13:15:36] \"GET /estado HTTP/1.1\" 200 -\n",
      "127.0.0.1 - - [30/May/2025 13:15:36] \"GET /estado HTTP/1.1\" 200 -\n",
      "127.0.0.1 - - [30/May/2025 13:15:36] \"GET /estado HTTP/1.1\" 200 -\n",
      "127.0.0.1 - - [30/May/2025 13:15:37] \"GET /estado HTTP/1.1\" 200 -\n",
      "127.0.0.1 - - [30/May/2025 13:15:37] \"GET /estado HTTP/1.1\" 200 -\n",
      "127.0.0.1 - - [30/May/2025 13:15:37] \"GET /estado HTTP/1.1\" 200 -\n",
      "127.0.0.1 - - [30/May/2025 13:15:38] \"GET /estado HTTP/1.1\" 200 -\n",
      "127.0.0.1 - - [30/May/2025 13:15:38] \"GET /estado HTTP/1.1\" 200 -\n",
      "127.0.0.1 - - [30/May/2025 13:15:38] \"GET /estado HTTP/1.1\" 200 -\n",
      "127.0.0.1 - - [30/May/2025 13:15:39] \"GET /estado HTTP/1.1\" 200 -\n",
      "127.0.0.1 - - [30/May/2025 13:15:39] \"GET /estado HTTP/1.1\" 200 -\n",
      "127.0.0.1 - - [30/May/2025 13:15:40] \"GET /estado HTTP/1.1\" 200 -\n",
      "127.0.0.1 - - [30/May/2025 13:15:40] \"GET /estado HTTP/1.1\" 200 -\n",
      "127.0.0.1 - - [30/May/2025 13:15:41] \"GET /estado HTTP/1.1\" 200 -\n",
      "127.0.0.1 - - [30/May/2025 13:15:41] \"GET /estado HTTP/1.1\" 200 -\n",
      "127.0.0.1 - - [30/May/2025 13:15:42] \"GET /estado HTTP/1.1\" 200 -\n",
      "127.0.0.1 - - [30/May/2025 13:15:42] \"GET /estado HTTP/1.1\" 200 -\n",
      "127.0.0.1 - - [30/May/2025 13:15:42] \"GET /estado HTTP/1.1\" 200 -\n",
      "127.0.0.1 - - [30/May/2025 13:15:43] \"GET /estado HTTP/1.1\" 200 -\n",
      "127.0.0.1 - - [30/May/2025 13:15:43] \"GET /estado HTTP/1.1\" 200 -\n",
      "127.0.0.1 - - [30/May/2025 13:15:43] \"GET /estado HTTP/1.1\" 200 -\n",
      "127.0.0.1 - - [30/May/2025 13:15:44] \"GET /estado HTTP/1.1\" 200 -\n",
      "127.0.0.1 - - [30/May/2025 13:15:44] \"GET /estado HTTP/1.1\" 200 -\n",
      "127.0.0.1 - - [30/May/2025 13:15:44] \"GET /estado HTTP/1.1\" 200 -\n",
      "127.0.0.1 - - [30/May/2025 13:15:45] \"GET /estado HTTP/1.1\" 200 -\n",
      "127.0.0.1 - - [30/May/2025 13:15:45] \"GET /estado HTTP/1.1\" 200 -\n",
      "127.0.0.1 - - [30/May/2025 13:15:46] \"GET /estado HTTP/1.1\" 200 -\n",
      "127.0.0.1 - - [30/May/2025 13:15:46] \"GET /estado HTTP/1.1\" 200 -\n",
      "127.0.0.1 - - [30/May/2025 13:15:47] \"GET /estado HTTP/1.1\" 200 -\n",
      "127.0.0.1 - - [30/May/2025 13:15:47] \"GET /estado HTTP/1.1\" 200 -\n",
      "127.0.0.1 - - [30/May/2025 13:15:48] \"GET /estado HTTP/1.1\" 200 -\n",
      "127.0.0.1 - - [30/May/2025 13:15:48] \"GET /estado HTTP/1.1\" 200 -\n",
      "127.0.0.1 - - [30/May/2025 13:15:48] \"GET /estado HTTP/1.1\" 200 -\n",
      "127.0.0.1 - - [30/May/2025 13:15:49] \"GET /estado HTTP/1.1\" 200 -\n",
      "127.0.0.1 - - [30/May/2025 13:15:49] \"GET /estado HTTP/1.1\" 200 -\n",
      "127.0.0.1 - - [30/May/2025 13:15:49] \"GET /estado HTTP/1.1\" 200 -\n",
      "127.0.0.1 - - [30/May/2025 13:15:50] \"GET /estado HTTP/1.1\" 200 -\n",
      "127.0.0.1 - - [30/May/2025 13:15:50] \"GET /estado HTTP/1.1\" 200 -\n",
      "127.0.0.1 - - [30/May/2025 13:15:50] \"GET /estado HTTP/1.1\" 200 -\n",
      "127.0.0.1 - - [30/May/2025 13:15:51] \"POST /estado HTTP/1.1\" 200 -\n"
     ]
    },
    {
     "name": "stdout",
     "output_type": "stream",
     "text": [
      "Estado recibido: {'estado': 'contracción'}\n"
     ]
    },
    {
     "name": "stderr",
     "output_type": "stream",
     "text": [
      "127.0.0.1 - - [30/May/2025 13:15:51] \"GET /estado HTTP/1.1\" 200 -\n",
      "127.0.0.1 - - [30/May/2025 13:15:51] \"GET /estado HTTP/1.1\" 200 -\n",
      "127.0.0.1 - - [30/May/2025 13:15:52] \"GET /estado HTTP/1.1\" 200 -\n",
      "127.0.0.1 - - [30/May/2025 13:15:52] \"GET /estado HTTP/1.1\" 200 -\n",
      "127.0.0.1 - - [30/May/2025 13:15:53] \"GET /estado HTTP/1.1\" 200 -\n",
      "127.0.0.1 - - [30/May/2025 13:15:53] \"GET /estado HTTP/1.1\" 200 -\n",
      "127.0.0.1 - - [30/May/2025 13:15:53] \"POST /estado HTTP/1.1\" 200 -\n"
     ]
    },
    {
     "name": "stdout",
     "output_type": "stream",
     "text": [
      "Estado recibido: {'estado': 'reposo'}\n"
     ]
    },
    {
     "name": "stderr",
     "output_type": "stream",
     "text": [
      "127.0.0.1 - - [30/May/2025 13:15:53] \"GET /estado HTTP/1.1\" 200 -\n",
      "127.0.0.1 - - [30/May/2025 13:15:54] \"GET /estado HTTP/1.1\" 200 -\n",
      "127.0.0.1 - - [30/May/2025 13:15:54] \"GET /estado HTTP/1.1\" 200 -\n",
      "127.0.0.1 - - [30/May/2025 13:15:55] \"GET /estado HTTP/1.1\" 200 -\n",
      "127.0.0.1 - - [30/May/2025 13:15:55] \"GET /estado HTTP/1.1\" 200 -\n",
      "127.0.0.1 - - [30/May/2025 13:15:55] \"POST /estado HTTP/1.1\" 200 -\n",
      "127.0.0.1 - - [30/May/2025 13:15:55] \"GET /estado HTTP/1.1\" 200 -\n"
     ]
    },
    {
     "name": "stdout",
     "output_type": "stream",
     "text": [
      "Estado recibido: {'estado': 'contracción'}\n"
     ]
    },
    {
     "name": "stderr",
     "output_type": "stream",
     "text": [
      "127.0.0.1 - - [30/May/2025 13:15:56] \"GET /estado HTTP/1.1\" 200 -\n",
      "127.0.0.1 - - [30/May/2025 13:15:56] \"GET /estado HTTP/1.1\" 200 -\n",
      "127.0.0.1 - - [30/May/2025 13:15:56] \"GET /estado HTTP/1.1\" 200 -\n",
      "127.0.0.1 - - [30/May/2025 13:15:57] \"GET /estado HTTP/1.1\" 200 -\n",
      "127.0.0.1 - - [30/May/2025 13:15:57] \"POST /estado HTTP/1.1\" 200 -\n"
     ]
    },
    {
     "name": "stdout",
     "output_type": "stream",
     "text": [
      "Estado recibido: {'estado': 'reposo'}\n"
     ]
    },
    {
     "name": "stderr",
     "output_type": "stream",
     "text": [
      "127.0.0.1 - - [30/May/2025 13:15:57] \"GET /estado HTTP/1.1\" 200 -\n",
      "127.0.0.1 - - [30/May/2025 13:15:58] \"GET /estado HTTP/1.1\" 200 -\n",
      "127.0.0.1 - - [30/May/2025 13:15:58] \"GET /estado HTTP/1.1\" 200 -\n",
      "127.0.0.1 - - [30/May/2025 13:15:59] \"GET /estado HTTP/1.1\" 200 -\n",
      "127.0.0.1 - - [30/May/2025 13:15:59] \"GET /estado HTTP/1.1\" 200 -\n",
      "127.0.0.1 - - [30/May/2025 13:16:00] \"GET /estado HTTP/1.1\" 200 -\n",
      "127.0.0.1 - - [30/May/2025 13:16:00] \"GET /estado HTTP/1.1\" 200 -\n",
      "127.0.0.1 - - [30/May/2025 13:16:00] \"GET /estado HTTP/1.1\" 200 -\n",
      "127.0.0.1 - - [30/May/2025 13:16:01] \"GET /estado HTTP/1.1\" 200 -\n",
      "127.0.0.1 - - [30/May/2025 13:16:01] \"GET /estado HTTP/1.1\" 200 -\n",
      "127.0.0.1 - - [30/May/2025 13:16:01] \"GET /estado HTTP/1.1\" 200 -\n",
      "127.0.0.1 - - [30/May/2025 13:16:02] \"GET /estado HTTP/1.1\" 200 -\n",
      "127.0.0.1 - - [30/May/2025 13:16:02] \"GET /estado HTTP/1.1\" 200 -\n",
      "127.0.0.1 - - [30/May/2025 13:16:02] \"GET /estado HTTP/1.1\" 200 -\n",
      "127.0.0.1 - - [30/May/2025 13:16:03] \"POST /estado HTTP/1.1\" 200 -\n"
     ]
    },
    {
     "name": "stdout",
     "output_type": "stream",
     "text": [
      "Estado recibido: {'estado': 'contracción'}\n"
     ]
    },
    {
     "name": "stderr",
     "output_type": "stream",
     "text": [
      "127.0.0.1 - - [30/May/2025 13:16:03] \"GET /estado HTTP/1.1\" 200 -\n",
      "127.0.0.1 - - [30/May/2025 13:16:03] \"GET /estado HTTP/1.1\" 200 -\n",
      "127.0.0.1 - - [30/May/2025 13:16:04] \"GET /estado HTTP/1.1\" 200 -\n",
      "127.0.0.1 - - [30/May/2025 13:16:04] \"GET /estado HTTP/1.1\" 200 -\n",
      "127.0.0.1 - - [30/May/2025 13:16:05] \"GET /estado HTTP/1.1\" 200 -\n",
      "127.0.0.1 - - [30/May/2025 13:16:05] \"GET /estado HTTP/1.1\" 200 -\n",
      "127.0.0.1 - - [30/May/2025 13:16:05] \"POST /estado HTTP/1.1\" 200 -\n"
     ]
    },
    {
     "name": "stdout",
     "output_type": "stream",
     "text": [
      "Estado recibido: {'estado': 'reposo'}\n"
     ]
    },
    {
     "name": "stderr",
     "output_type": "stream",
     "text": [
      "127.0.0.1 - - [30/May/2025 13:16:06] \"GET /estado HTTP/1.1\" 200 -\n",
      "127.0.0.1 - - [30/May/2025 13:16:06] \"GET /estado HTTP/1.1\" 200 -\n",
      "127.0.0.1 - - [30/May/2025 13:16:06] \"GET /estado HTTP/1.1\" 200 -\n",
      "127.0.0.1 - - [30/May/2025 13:16:07] \"GET /estado HTTP/1.1\" 200 -\n",
      "127.0.0.1 - - [30/May/2025 13:16:07] \"GET /estado HTTP/1.1\" 200 -\n",
      "127.0.0.1 - - [30/May/2025 13:16:07] \"GET /estado HTTP/1.1\" 200 -\n",
      "127.0.0.1 - - [30/May/2025 13:16:08] \"GET /estado HTTP/1.1\" 200 -\n",
      "127.0.0.1 - - [30/May/2025 13:16:08] \"GET /estado HTTP/1.1\" 200 -\n",
      "127.0.0.1 - - [30/May/2025 13:16:08] \"GET /estado HTTP/1.1\" 200 -\n",
      "127.0.0.1 - - [30/May/2025 13:16:09] \"GET /estado HTTP/1.1\" 200 -\n",
      "127.0.0.1 - - [30/May/2025 13:16:09] \"GET /estado HTTP/1.1\" 200 -\n",
      "127.0.0.1 - - [30/May/2025 13:16:10] \"GET /estado HTTP/1.1\" 200 -\n",
      "127.0.0.1 - - [30/May/2025 13:16:10] \"GET /estado HTTP/1.1\" 200 -\n",
      "127.0.0.1 - - [30/May/2025 13:16:11] \"GET /estado HTTP/1.1\" 200 -\n",
      "127.0.0.1 - - [30/May/2025 13:16:11] \"GET /estado HTTP/1.1\" 200 -\n",
      "127.0.0.1 - - [30/May/2025 13:16:11] \"GET /estado HTTP/1.1\" 200 -\n",
      "127.0.0.1 - - [30/May/2025 13:16:12] \"GET /estado HTTP/1.1\" 200 -\n",
      "127.0.0.1 - - [30/May/2025 13:16:12] \"GET /estado HTTP/1.1\" 200 -\n",
      "127.0.0.1 - - [30/May/2025 13:16:12] \"POST /estado HTTP/1.1\" 200 -\n"
     ]
    },
    {
     "name": "stdout",
     "output_type": "stream",
     "text": [
      "Estado recibido: {'estado': 'contracción'}\n"
     ]
    },
    {
     "name": "stderr",
     "output_type": "stream",
     "text": [
      "127.0.0.1 - - [30/May/2025 13:16:13] \"GET /estado HTTP/1.1\" 200 -\n",
      "127.0.0.1 - - [30/May/2025 13:16:13] \"GET /estado HTTP/1.1\" 200 -\n",
      "127.0.0.1 - - [30/May/2025 13:16:13] \"GET /estado HTTP/1.1\" 200 -\n",
      "127.0.0.1 - - [30/May/2025 13:16:14] \"GET /estado HTTP/1.1\" 200 -\n",
      "127.0.0.1 - - [30/May/2025 13:16:14] \"GET /estado HTTP/1.1\" 200 -\n",
      "127.0.0.1 - - [30/May/2025 13:16:14] \"GET /estado HTTP/1.1\" 200 -\n",
      "127.0.0.1 - - [30/May/2025 13:16:15] \"POST /estado HTTP/1.1\" 200 -\n"
     ]
    },
    {
     "name": "stdout",
     "output_type": "stream",
     "text": [
      "Estado recibido: {'estado': 'reposo'}\n"
     ]
    },
    {
     "name": "stderr",
     "output_type": "stream",
     "text": [
      "127.0.0.1 - - [30/May/2025 13:16:15] \"GET /estado HTTP/1.1\" 200 -\n",
      "127.0.0.1 - - [30/May/2025 13:16:15] \"GET /estado HTTP/1.1\" 200 -\n",
      "127.0.0.1 - - [30/May/2025 13:16:16] \"GET /estado HTTP/1.1\" 200 -\n",
      "127.0.0.1 - - [30/May/2025 13:16:16] \"GET /estado HTTP/1.1\" 200 -\n",
      "127.0.0.1 - - [30/May/2025 13:16:17] \"GET /estado HTTP/1.1\" 200 -\n",
      "127.0.0.1 - - [30/May/2025 13:16:17] \"GET /estado HTTP/1.1\" 200 -\n",
      "127.0.0.1 - - [30/May/2025 13:16:18] \"GET /estado HTTP/1.1\" 200 -\n",
      "127.0.0.1 - - [30/May/2025 13:16:18] \"GET /estado HTTP/1.1\" 200 -\n",
      "127.0.0.1 - - [30/May/2025 13:16:18] \"GET /estado HTTP/1.1\" 200 -\n",
      "127.0.0.1 - - [30/May/2025 13:16:19] \"GET /estado HTTP/1.1\" 200 -\n",
      "127.0.0.1 - - [30/May/2025 13:16:19] \"GET /estado HTTP/1.1\" 200 -\n",
      "127.0.0.1 - - [30/May/2025 13:16:19] \"GET /estado HTTP/1.1\" 200 -\n",
      "127.0.0.1 - - [30/May/2025 13:16:20] \"GET /estado HTTP/1.1\" 200 -\n",
      "127.0.0.1 - - [30/May/2025 13:16:20] \"GET /estado HTTP/1.1\" 200 -\n",
      "127.0.0.1 - - [30/May/2025 13:16:20] \"GET /estado HTTP/1.1\" 200 -\n",
      "127.0.0.1 - - [30/May/2025 13:16:21] \"GET /estado HTTP/1.1\" 200 -\n",
      "127.0.0.1 - - [30/May/2025 13:16:21] \"GET /estado HTTP/1.1\" 200 -\n",
      "127.0.0.1 - - [30/May/2025 13:16:22] \"GET /estado HTTP/1.1\" 200 -\n",
      "127.0.0.1 - - [30/May/2025 13:16:22] \"GET /estado HTTP/1.1\" 200 -\n",
      "127.0.0.1 - - [30/May/2025 13:16:23] \"GET /estado HTTP/1.1\" 200 -\n",
      "127.0.0.1 - - [30/May/2025 13:16:23] \"GET /estado HTTP/1.1\" 200 -\n",
      "127.0.0.1 - - [30/May/2025 13:16:24] \"GET /estado HTTP/1.1\" 200 -\n",
      "127.0.0.1 - - [30/May/2025 13:16:24] \"GET /estado HTTP/1.1\" 200 -\n",
      "127.0.0.1 - - [30/May/2025 13:16:24] \"GET /estado HTTP/1.1\" 200 -\n",
      "127.0.0.1 - - [30/May/2025 13:16:25] \"GET /estado HTTP/1.1\" 200 -\n",
      "127.0.0.1 - - [30/May/2025 13:16:25] \"GET /estado HTTP/1.1\" 200 -\n",
      "127.0.0.1 - - [30/May/2025 13:16:25] \"GET /estado HTTP/1.1\" 200 -\n",
      "127.0.0.1 - - [30/May/2025 13:16:25] \"POST /estado HTTP/1.1\" 200 -\n"
     ]
    },
    {
     "name": "stdout",
     "output_type": "stream",
     "text": [
      "Estado recibido: {'estado': 'contracción'}\n"
     ]
    },
    {
     "name": "stderr",
     "output_type": "stream",
     "text": [
      "127.0.0.1 - - [30/May/2025 13:16:26] \"GET /estado HTTP/1.1\" 200 -\n",
      "127.0.0.1 - - [30/May/2025 13:16:26] \"GET /estado HTTP/1.1\" 200 -\n",
      "127.0.0.1 - - [30/May/2025 13:16:26] \"GET /estado HTTP/1.1\" 200 -\n",
      "127.0.0.1 - - [30/May/2025 13:16:27] \"GET /estado HTTP/1.1\" 200 -\n",
      "127.0.0.1 - - [30/May/2025 13:16:27] \"GET /estado HTTP/1.1\" 200 -\n",
      "127.0.0.1 - - [30/May/2025 13:16:27] \"POST /estado HTTP/1.1\" 200 -\n",
      "127.0.0.1 - - [30/May/2025 13:16:28] \"GET /estado HTTP/1.1\" 200 -\n"
     ]
    },
    {
     "name": "stdout",
     "output_type": "stream",
     "text": [
      "Estado recibido: {'estado': 'reposo'}\n"
     ]
    },
    {
     "name": "stderr",
     "output_type": "stream",
     "text": [
      "127.0.0.1 - - [30/May/2025 13:16:28] \"GET /estado HTTP/1.1\" 200 -\n",
      "127.0.0.1 - - [30/May/2025 13:16:29] \"GET /estado HTTP/1.1\" 200 -\n",
      "127.0.0.1 - - [30/May/2025 13:16:29] \"GET /estado HTTP/1.1\" 200 -\n",
      "127.0.0.1 - - [30/May/2025 13:16:30] \"GET /estado HTTP/1.1\" 200 -\n",
      "127.0.0.1 - - [30/May/2025 13:16:30] \"GET /estado HTTP/1.1\" 200 -\n",
      "127.0.0.1 - - [30/May/2025 13:16:30] \"GET /estado HTTP/1.1\" 200 -\n",
      "127.0.0.1 - - [30/May/2025 13:16:31] \"GET /estado HTTP/1.1\" 200 -\n",
      "127.0.0.1 - - [30/May/2025 13:16:31] \"GET /estado HTTP/1.1\" 200 -\n",
      "127.0.0.1 - - [30/May/2025 13:16:31] \"GET /estado HTTP/1.1\" 200 -\n",
      "127.0.0.1 - - [30/May/2025 13:16:32] \"GET /estado HTTP/1.1\" 200 -\n",
      "127.0.0.1 - - [30/May/2025 13:16:32] \"GET /estado HTTP/1.1\" 200 -\n",
      "127.0.0.1 - - [30/May/2025 13:16:32] \"GET /estado HTTP/1.1\" 200 -\n",
      "127.0.0.1 - - [30/May/2025 13:16:33] \"GET /estado HTTP/1.1\" 200 -\n",
      "127.0.0.1 - - [30/May/2025 13:16:33] \"GET /estado HTTP/1.1\" 200 -\n",
      "127.0.0.1 - - [30/May/2025 13:16:34] \"GET /estado HTTP/1.1\" 200 -\n",
      "127.0.0.1 - - [30/May/2025 13:16:34] \"GET /estado HTTP/1.1\" 200 -\n",
      "127.0.0.1 - - [30/May/2025 13:16:35] \"GET /estado HTTP/1.1\" 200 -\n",
      "127.0.0.1 - - [30/May/2025 13:16:35] \"GET /estado HTTP/1.1\" 200 -\n",
      "127.0.0.1 - - [30/May/2025 13:16:35] \"GET /estado HTTP/1.1\" 200 -\n",
      "127.0.0.1 - - [30/May/2025 13:16:36] \"GET /estado HTTP/1.1\" 200 -\n",
      "127.0.0.1 - - [30/May/2025 13:16:36] \"GET /estado HTTP/1.1\" 200 -\n",
      "127.0.0.1 - - [30/May/2025 13:16:37] \"GET /estado HTTP/1.1\" 200 -\n",
      "127.0.0.1 - - [30/May/2025 13:16:37] \"GET /estado HTTP/1.1\" 200 -\n",
      "127.0.0.1 - - [30/May/2025 13:16:37] \"GET /estado HTTP/1.1\" 200 -\n",
      "127.0.0.1 - - [30/May/2025 13:16:38] \"GET /estado HTTP/1.1\" 200 -\n",
      "127.0.0.1 - - [30/May/2025 13:16:38] \"GET /estado HTTP/1.1\" 200 -\n",
      "127.0.0.1 - - [30/May/2025 13:16:38] \"GET /estado HTTP/1.1\" 200 -\n",
      "127.0.0.1 - - [30/May/2025 13:16:39] \"GET /estado HTTP/1.1\" 200 -\n",
      "127.0.0.1 - - [30/May/2025 13:16:39] \"GET /estado HTTP/1.1\" 200 -\n",
      "127.0.0.1 - - [30/May/2025 13:16:40] \"GET /estado HTTP/1.1\" 200 -\n",
      "127.0.0.1 - - [30/May/2025 13:16:40] \"GET /estado HTTP/1.1\" 200 -\n",
      "127.0.0.1 - - [30/May/2025 13:16:41] \"GET /estado HTTP/1.1\" 200 -\n",
      "127.0.0.1 - - [30/May/2025 13:16:41] \"GET /estado HTTP/1.1\" 200 -\n",
      "127.0.0.1 - - [30/May/2025 13:16:42] \"GET /estado HTTP/1.1\" 200 -\n",
      "127.0.0.1 - - [30/May/2025 13:16:42] \"GET /estado HTTP/1.1\" 200 -\n",
      "127.0.0.1 - - [30/May/2025 13:16:42] \"GET /estado HTTP/1.1\" 200 -\n",
      "127.0.0.1 - - [30/May/2025 13:16:42] \"POST /estado HTTP/1.1\" 200 -\n"
     ]
    },
    {
     "name": "stdout",
     "output_type": "stream",
     "text": [
      "Estado recibido: {'estado': 'contracción'}\n"
     ]
    },
    {
     "name": "stderr",
     "output_type": "stream",
     "text": [
      "127.0.0.1 - - [30/May/2025 13:16:43] \"GET /estado HTTP/1.1\" 200 -\n",
      "127.0.0.1 - - [30/May/2025 13:16:43] \"GET /estado HTTP/1.1\" 200 -\n",
      "127.0.0.1 - - [30/May/2025 13:16:43] \"GET /estado HTTP/1.1\" 200 -\n",
      "127.0.0.1 - - [30/May/2025 13:16:44] \"GET /estado HTTP/1.1\" 200 -\n",
      "127.0.0.1 - - [30/May/2025 13:16:44] \"GET /estado HTTP/1.1\" 200 -\n",
      "127.0.0.1 - - [30/May/2025 13:16:44] \"POST /estado HTTP/1.1\" 200 -\n",
      "127.0.0.1 - - [30/May/2025 13:16:44] \"GET /estado HTTP/1.1\" 200 -\n"
     ]
    },
    {
     "name": "stdout",
     "output_type": "stream",
     "text": [
      "Estado recibido: {'estado': 'reposo'}\n"
     ]
    },
    {
     "name": "stderr",
     "output_type": "stream",
     "text": [
      "127.0.0.1 - - [30/May/2025 13:16:45] \"GET /estado HTTP/1.1\" 200 -\n",
      "127.0.0.1 - - [30/May/2025 13:16:45] \"GET /estado HTTP/1.1\" 200 -\n",
      "127.0.0.1 - - [30/May/2025 13:16:46] \"GET /estado HTTP/1.1\" 200 -\n",
      "127.0.0.1 - - [30/May/2025 13:16:46] \"GET /estado HTTP/1.1\" 200 -\n",
      "127.0.0.1 - - [30/May/2025 13:16:47] \"GET /estado HTTP/1.1\" 200 -\n",
      "127.0.0.1 - - [30/May/2025 13:16:47] \"GET /estado HTTP/1.1\" 200 -\n",
      "127.0.0.1 - - [30/May/2025 13:16:47] \"GET /estado HTTP/1.1\" 200 -\n",
      "127.0.0.1 - - [30/May/2025 13:16:48] \"POST /estado HTTP/1.1\" 200 -\n"
     ]
    },
    {
     "name": "stdout",
     "output_type": "stream",
     "text": [
      "Estado recibido: {'estado': 'contracción'}\n"
     ]
    },
    {
     "name": "stderr",
     "output_type": "stream",
     "text": [
      "127.0.0.1 - - [30/May/2025 13:16:48] \"GET /estado HTTP/1.1\" 200 -\n",
      "127.0.0.1 - - [30/May/2025 13:16:48] \"GET /estado HTTP/1.1\" 200 -\n",
      "127.0.0.1 - - [30/May/2025 13:16:49] \"GET /estado HTTP/1.1\" 200 -\n",
      "127.0.0.1 - - [30/May/2025 13:16:49] \"GET /estado HTTP/1.1\" 200 -\n",
      "127.0.0.1 - - [30/May/2025 13:16:49] \"GET /estado HTTP/1.1\" 200 -\n",
      "127.0.0.1 - - [30/May/2025 13:16:50] \"POST /estado HTTP/1.1\" 200 -\n"
     ]
    },
    {
     "name": "stdout",
     "output_type": "stream",
     "text": [
      "Estado recibido: {'estado': 'reposo'}\n"
     ]
    },
    {
     "name": "stderr",
     "output_type": "stream",
     "text": [
      "127.0.0.1 - - [30/May/2025 13:16:50] \"GET /estado HTTP/1.1\" 200 -\n",
      "127.0.0.1 - - [30/May/2025 13:16:50] \"GET /estado HTTP/1.1\" 200 -\n",
      "127.0.0.1 - - [30/May/2025 13:16:50] \"GET /estado HTTP/1.1\" 200 -\n",
      "127.0.0.1 - - [30/May/2025 13:16:51] \"GET /estado HTTP/1.1\" 200 -\n",
      "127.0.0.1 - - [30/May/2025 13:16:51] \"GET /estado HTTP/1.1\" 200 -\n",
      "127.0.0.1 - - [30/May/2025 13:16:52] \"GET /estado HTTP/1.1\" 200 -\n",
      "127.0.0.1 - - [30/May/2025 13:16:52] \"POST /estado HTTP/1.1\" 200 -\n",
      "127.0.0.1 - - [30/May/2025 13:16:52] \"GET /estado HTTP/1.1\" 200 -\n"
     ]
    },
    {
     "name": "stdout",
     "output_type": "stream",
     "text": [
      "Estado recibido: {'estado': 'contracción'}\n"
     ]
    },
    {
     "name": "stderr",
     "output_type": "stream",
     "text": [
      "127.0.0.1 - - [30/May/2025 13:16:53] \"GET /estado HTTP/1.1\" 200 -\n",
      "127.0.0.1 - - [30/May/2025 13:16:53] \"GET /estado HTTP/1.1\" 200 -\n",
      "127.0.0.1 - - [30/May/2025 13:16:53] \"GET /estado HTTP/1.1\" 200 -\n",
      "127.0.0.1 - - [30/May/2025 13:16:54] \"GET /estado HTTP/1.1\" 200 -\n",
      "127.0.0.1 - - [30/May/2025 13:16:54] \"GET /estado HTTP/1.1\" 200 -\n",
      "127.0.0.1 - - [30/May/2025 13:16:54] \"POST /estado HTTP/1.1\" 200 -\n"
     ]
    },
    {
     "name": "stdout",
     "output_type": "stream",
     "text": [
      "Estado recibido: {'estado': 'reposo'}\n"
     ]
    },
    {
     "name": "stderr",
     "output_type": "stream",
     "text": [
      "127.0.0.1 - - [30/May/2025 13:16:55] \"GET /estado HTTP/1.1\" 200 -\n",
      "127.0.0.1 - - [30/May/2025 13:16:55] \"GET /estado HTTP/1.1\" 200 -\n",
      "127.0.0.1 - - [30/May/2025 13:16:55] \"GET /estado HTTP/1.1\" 200 -\n",
      "127.0.0.1 - - [30/May/2025 13:16:56] \"GET /estado HTTP/1.1\" 200 -\n",
      "127.0.0.1 - - [30/May/2025 13:16:56] \"GET /estado HTTP/1.1\" 200 -\n",
      "127.0.0.1 - - [30/May/2025 13:16:56] \"GET /estado HTTP/1.1\" 200 -\n",
      "127.0.0.1 - - [30/May/2025 13:16:57] \"GET /estado HTTP/1.1\" 200 -\n",
      "127.0.0.1 - - [30/May/2025 13:16:57] \"POST /estado HTTP/1.1\" 200 -\n",
      "127.0.0.1 - - [30/May/2025 13:16:57] \"GET /estado HTTP/1.1\" 200 -\n"
     ]
    },
    {
     "name": "stdout",
     "output_type": "stream",
     "text": [
      "Estado recibido: {'estado': 'contracción'}\n"
     ]
    },
    {
     "name": "stderr",
     "output_type": "stream",
     "text": [
      "127.0.0.1 - - [30/May/2025 13:16:58] \"GET /estado HTTP/1.1\" 200 -\n",
      "127.0.0.1 - - [30/May/2025 13:16:58] \"GET /estado HTTP/1.1\" 200 -\n",
      "127.0.0.1 - - [30/May/2025 13:16:59] \"GET /estado HTTP/1.1\" 200 -\n",
      "127.0.0.1 - - [30/May/2025 13:16:59] \"GET /estado HTTP/1.1\" 200 -\n",
      "127.0.0.1 - - [30/May/2025 13:16:59] \"POST /estado HTTP/1.1\" 200 -\n",
      "127.0.0.1 - - [30/May/2025 13:16:59] \"GET /estado HTTP/1.1\" 200 -\n"
     ]
    },
    {
     "name": "stdout",
     "output_type": "stream",
     "text": [
      "Estado recibido: {'estado': 'reposo'}\n"
     ]
    },
    {
     "name": "stderr",
     "output_type": "stream",
     "text": [
      "127.0.0.1 - - [30/May/2025 13:17:00] \"GET /estado HTTP/1.1\" 200 -\n",
      "127.0.0.1 - - [30/May/2025 13:17:00] \"GET /estado HTTP/1.1\" 200 -\n",
      "127.0.0.1 - - [30/May/2025 13:17:01] \"GET /estado HTTP/1.1\" 200 -\n",
      "127.0.0.1 - - [30/May/2025 13:17:01] \"GET /estado HTTP/1.1\" 200 -\n",
      "127.0.0.1 - - [30/May/2025 13:17:01] \"GET /estado HTTP/1.1\" 200 -\n",
      "127.0.0.1 - - [30/May/2025 13:17:02] \"GET /estado HTTP/1.1\" 200 -\n",
      "127.0.0.1 - - [30/May/2025 13:17:02] \"GET /estado HTTP/1.1\" 200 -\n",
      "127.0.0.1 - - [30/May/2025 13:17:02] \"GET /estado HTTP/1.1\" 200 -\n",
      "127.0.0.1 - - [30/May/2025 13:17:03] \"GET /estado HTTP/1.1\" 200 -\n",
      "127.0.0.1 - - [30/May/2025 13:17:03] \"POST /estado HTTP/1.1\" 200 -\n",
      "127.0.0.1 - - [30/May/2025 13:17:03] \"GET /estado HTTP/1.1\" 200 -\n"
     ]
    },
    {
     "name": "stdout",
     "output_type": "stream",
     "text": [
      "Estado recibido: {'estado': 'contracción'}\n"
     ]
    },
    {
     "name": "stderr",
     "output_type": "stream",
     "text": [
      "127.0.0.1 - - [30/May/2025 13:17:04] \"GET /estado HTTP/1.1\" 200 -\n",
      "127.0.0.1 - - [30/May/2025 13:17:04] \"GET /estado HTTP/1.1\" 200 -\n",
      "127.0.0.1 - - [30/May/2025 13:17:05] \"GET /estado HTTP/1.1\" 200 -\n",
      "127.0.0.1 - - [30/May/2025 13:17:05] \"GET /estado HTTP/1.1\" 200 -\n",
      "127.0.0.1 - - [30/May/2025 13:17:05] \"POST /estado HTTP/1.1\" 200 -\n"
     ]
    },
    {
     "name": "stdout",
     "output_type": "stream",
     "text": [
      "Estado recibido: {'estado': 'reposo'}\n"
     ]
    },
    {
     "name": "stderr",
     "output_type": "stream",
     "text": [
      "127.0.0.1 - - [30/May/2025 13:17:06] \"GET /estado HTTP/1.1\" 200 -\n",
      "127.0.0.1 - - [30/May/2025 13:17:06] \"GET /estado HTTP/1.1\" 200 -\n",
      "127.0.0.1 - - [30/May/2025 13:17:06] \"GET /estado HTTP/1.1\" 200 -\n",
      "127.0.0.1 - - [30/May/2025 13:17:07] \"GET /estado HTTP/1.1\" 200 -\n",
      "127.0.0.1 - - [30/May/2025 13:17:07] \"GET /estado HTTP/1.1\" 200 -\n",
      "127.0.0.1 - - [30/May/2025 13:17:07] \"GET /estado HTTP/1.1\" 200 -\n",
      "127.0.0.1 - - [30/May/2025 13:17:07] \"POST /estado HTTP/1.1\" 200 -\n"
     ]
    },
    {
     "name": "stdout",
     "output_type": "stream",
     "text": [
      "Estado recibido: {'estado': 'contracción'}\n"
     ]
    },
    {
     "name": "stderr",
     "output_type": "stream",
     "text": [
      "127.0.0.1 - - [30/May/2025 13:17:08] \"GET /estado HTTP/1.1\" 200 -\n",
      "127.0.0.1 - - [30/May/2025 13:17:08] \"GET /estado HTTP/1.1\" 200 -\n",
      "127.0.0.1 - - [30/May/2025 13:17:08] \"GET /estado HTTP/1.1\" 200 -\n",
      "127.0.0.1 - - [30/May/2025 13:17:09] \"GET /estado HTTP/1.1\" 200 -\n",
      "127.0.0.1 - - [30/May/2025 13:17:09] \"GET /estado HTTP/1.1\" 200 -\n",
      "127.0.0.1 - - [30/May/2025 13:17:09] \"POST /estado HTTP/1.1\" 200 -\n",
      "127.0.0.1 - - [30/May/2025 13:17:10] \"GET /estado HTTP/1.1\" 200 -\n"
     ]
    },
    {
     "name": "stdout",
     "output_type": "stream",
     "text": [
      "Estado recibido: {'estado': 'reposo'}\n"
     ]
    },
    {
     "name": "stderr",
     "output_type": "stream",
     "text": [
      "127.0.0.1 - - [30/May/2025 13:17:10] \"GET /estado HTTP/1.1\" 200 -\n",
      "127.0.0.1 - - [30/May/2025 13:17:11] \"GET /estado HTTP/1.1\" 200 -\n",
      "127.0.0.1 - - [30/May/2025 13:17:11] \"GET /estado HTTP/1.1\" 200 -\n",
      "127.0.0.1 - - [30/May/2025 13:17:12] \"GET /estado HTTP/1.1\" 200 -\n",
      "127.0.0.1 - - [30/May/2025 13:17:12] \"GET /estado HTTP/1.1\" 200 -\n",
      "127.0.0.1 - - [30/May/2025 13:17:12] \"POST /estado HTTP/1.1\" 200 -\n"
     ]
    },
    {
     "name": "stdout",
     "output_type": "stream",
     "text": [
      "Estado recibido: {'estado': 'contracción'}\n"
     ]
    },
    {
     "name": "stderr",
     "output_type": "stream",
     "text": [
      "127.0.0.1 - - [30/May/2025 13:17:12] \"GET /estado HTTP/1.1\" 200 -\n",
      "127.0.0.1 - - [30/May/2025 13:17:13] \"GET /estado HTTP/1.1\" 200 -\n",
      "127.0.0.1 - - [30/May/2025 13:17:13] \"GET /estado HTTP/1.1\" 200 -\n",
      "127.0.0.1 - - [30/May/2025 13:17:13] \"GET /estado HTTP/1.1\" 200 -\n",
      "127.0.0.1 - - [30/May/2025 13:17:14] \"POST /estado HTTP/1.1\" 200 -\n",
      "127.0.0.1 - - [30/May/2025 13:17:14] \"GET /estado HTTP/1.1\" 200 -\n"
     ]
    },
    {
     "name": "stdout",
     "output_type": "stream",
     "text": [
      "Estado recibido: {'estado': 'reposo'}\n"
     ]
    },
    {
     "name": "stderr",
     "output_type": "stream",
     "text": [
      "127.0.0.1 - - [30/May/2025 13:17:14] \"GET /estado HTTP/1.1\" 200 -\n",
      "127.0.0.1 - - [30/May/2025 13:17:14] \"GET /estado HTTP/1.1\" 200 -\n",
      "127.0.0.1 - - [30/May/2025 13:17:15] \"GET /estado HTTP/1.1\" 200 -\n",
      "127.0.0.1 - - [30/May/2025 13:17:15] \"GET /estado HTTP/1.1\" 200 -\n",
      "127.0.0.1 - - [30/May/2025 13:17:16] \"GET /estado HTTP/1.1\" 200 -\n",
      "127.0.0.1 - - [30/May/2025 13:17:16] \"GET /estado HTTP/1.1\" 200 -\n",
      "127.0.0.1 - - [30/May/2025 13:17:17] \"GET /estado HTTP/1.1\" 200 -\n",
      "127.0.0.1 - - [30/May/2025 13:17:17] \"GET /estado HTTP/1.1\" 200 -\n",
      "127.0.0.1 - - [30/May/2025 13:17:17] \"GET /estado HTTP/1.1\" 200 -\n",
      "127.0.0.1 - - [30/May/2025 13:17:18] \"GET /estado HTTP/1.1\" 200 -\n",
      "127.0.0.1 - - [30/May/2025 13:17:18] \"GET /estado HTTP/1.1\" 200 -\n",
      "127.0.0.1 - - [30/May/2025 13:17:19] \"GET /estado HTTP/1.1\" 200 -\n",
      "127.0.0.1 - - [30/May/2025 13:17:19] \"GET /estado HTTP/1.1\" 200 -\n",
      "127.0.0.1 - - [30/May/2025 13:17:19] \"GET /estado HTTP/1.1\" 200 -\n",
      "127.0.0.1 - - [30/May/2025 13:17:20] \"GET /estado HTTP/1.1\" 200 -\n",
      "127.0.0.1 - - [30/May/2025 13:17:20] \"GET /estado HTTP/1.1\" 200 -\n",
      "127.0.0.1 - - [30/May/2025 13:17:20] \"GET /estado HTTP/1.1\" 200 -\n",
      "127.0.0.1 - - [30/May/2025 13:17:21] \"GET /estado HTTP/1.1\" 200 -\n",
      "127.0.0.1 - - [30/May/2025 13:17:21] \"GET /estado HTTP/1.1\" 200 -\n",
      "127.0.0.1 - - [30/May/2025 13:17:22] \"GET /estado HTTP/1.1\" 200 -\n",
      "127.0.0.1 - - [30/May/2025 13:17:22] \"GET /estado HTTP/1.1\" 200 -\n",
      "127.0.0.1 - - [30/May/2025 13:17:23] \"GET /estado HTTP/1.1\" 200 -\n",
      "127.0.0.1 - - [30/May/2025 13:17:23] \"GET /estado HTTP/1.1\" 200 -\n",
      "127.0.0.1 - - [30/May/2025 13:17:24] \"GET /estado HTTP/1.1\" 200 -\n",
      "127.0.0.1 - - [30/May/2025 13:17:24] \"GET /estado HTTP/1.1\" 200 -\n",
      "127.0.0.1 - - [30/May/2025 13:17:24] \"GET /estado HTTP/1.1\" 200 -\n",
      "127.0.0.1 - - [30/May/2025 13:17:25] \"GET /estado HTTP/1.1\" 200 -\n",
      "127.0.0.1 - - [30/May/2025 13:17:25] \"GET /estado HTTP/1.1\" 200 -\n",
      "127.0.0.1 - - [30/May/2025 13:17:25] \"GET /estado HTTP/1.1\" 200 -\n",
      "127.0.0.1 - - [30/May/2025 13:17:26] \"GET /estado HTTP/1.1\" 200 -\n",
      "127.0.0.1 - - [30/May/2025 13:17:26] \"GET /estado HTTP/1.1\" 200 -\n",
      "127.0.0.1 - - [30/May/2025 13:17:26] \"GET /estado HTTP/1.1\" 200 -\n",
      "127.0.0.1 - - [30/May/2025 13:17:27] \"GET /estado HTTP/1.1\" 200 -\n",
      "127.0.0.1 - - [30/May/2025 13:17:27] \"GET /estado HTTP/1.1\" 200 -\n",
      "127.0.0.1 - - [30/May/2025 13:17:28] \"GET /estado HTTP/1.1\" 200 -\n",
      "127.0.0.1 - - [30/May/2025 13:17:28] \"GET /estado HTTP/1.1\" 200 -\n",
      "127.0.0.1 - - [30/May/2025 13:17:29] \"GET /estado HTTP/1.1\" 200 -\n",
      "127.0.0.1 - - [30/May/2025 13:17:29] \"GET /estado HTTP/1.1\" 200 -\n",
      "127.0.0.1 - - [30/May/2025 13:17:30] \"GET /estado HTTP/1.1\" 200 -\n",
      "127.0.0.1 - - [30/May/2025 13:17:30] \"GET /estado HTTP/1.1\" 200 -\n",
      "127.0.0.1 - - [30/May/2025 13:17:30] \"GET /estado HTTP/1.1\" 200 -\n",
      "127.0.0.1 - - [30/May/2025 13:17:31] \"GET /estado HTTP/1.1\" 200 -\n",
      "127.0.0.1 - - [30/May/2025 13:17:31] \"GET /estado HTTP/1.1\" 200 -\n",
      "127.0.0.1 - - [30/May/2025 13:17:31] \"GET /estado HTTP/1.1\" 200 -\n",
      "127.0.0.1 - - [30/May/2025 13:17:32] \"GET /estado HTTP/1.1\" 200 -\n",
      "127.0.0.1 - - [30/May/2025 13:17:32] \"GET /estado HTTP/1.1\" 200 -\n",
      "127.0.0.1 - - [30/May/2025 13:17:32] \"GET /estado HTTP/1.1\" 200 -\n",
      "127.0.0.1 - - [30/May/2025 13:17:33] \"GET /estado HTTP/1.1\" 200 -\n",
      "127.0.0.1 - - [30/May/2025 13:17:33] \"GET /estado HTTP/1.1\" 200 -\n",
      "127.0.0.1 - - [30/May/2025 13:17:34] \"GET /estado HTTP/1.1\" 200 -\n",
      "127.0.0.1 - - [30/May/2025 13:17:34] \"GET /estado HTTP/1.1\" 200 -\n",
      "127.0.0.1 - - [30/May/2025 13:17:35] \"GET /estado HTTP/1.1\" 200 -\n",
      "127.0.0.1 - - [30/May/2025 13:17:35] \"POST /estado HTTP/1.1\" 200 -\n",
      "127.0.0.1 - - [30/May/2025 13:17:35] \"GET /estado HTTP/1.1\" 200 -\n"
     ]
    },
    {
     "name": "stdout",
     "output_type": "stream",
     "text": [
      "Estado recibido: {'estado': 'contracción'}\n"
     ]
    },
    {
     "name": "stderr",
     "output_type": "stream",
     "text": [
      "127.0.0.1 - - [30/May/2025 13:17:36] \"GET /estado HTTP/1.1\" 200 -\n",
      "127.0.0.1 - - [30/May/2025 13:17:36] \"GET /estado HTTP/1.1\" 200 -\n",
      "127.0.0.1 - - [30/May/2025 13:17:36] \"GET /estado HTTP/1.1\" 200 -\n",
      "127.0.0.1 - - [30/May/2025 13:17:37] \"POST /estado HTTP/1.1\" 200 -\n",
      "127.0.0.1 - - [30/May/2025 13:17:37] \"GET /estado HTTP/1.1\" 200 -\n"
     ]
    },
    {
     "name": "stdout",
     "output_type": "stream",
     "text": [
      "Estado recibido: {'estado': 'reposo'}\n"
     ]
    },
    {
     "name": "stderr",
     "output_type": "stream",
     "text": [
      "127.0.0.1 - - [30/May/2025 13:17:37] \"GET /estado HTTP/1.1\" 200 -\n",
      "127.0.0.1 - - [30/May/2025 13:17:37] \"GET /estado HTTP/1.1\" 200 -\n",
      "127.0.0.1 - - [30/May/2025 13:17:38] \"GET /estado HTTP/1.1\" 200 -\n",
      "127.0.0.1 - - [30/May/2025 13:17:38] \"GET /estado HTTP/1.1\" 200 -\n",
      "127.0.0.1 - - [30/May/2025 13:17:38] \"GET /estado HTTP/1.1\" 200 -\n",
      "127.0.0.1 - - [30/May/2025 13:17:39] \"POST /estado HTTP/1.1\" 200 -\n"
     ]
    },
    {
     "name": "stdout",
     "output_type": "stream",
     "text": [
      "Estado recibido: {'estado': 'contracción'}\n"
     ]
    },
    {
     "name": "stderr",
     "output_type": "stream",
     "text": [
      "127.0.0.1 - - [30/May/2025 13:17:39] \"GET /estado HTTP/1.1\" 200 -\n",
      "127.0.0.1 - - [30/May/2025 13:17:39] \"GET /estado HTTP/1.1\" 200 -\n",
      "127.0.0.1 - - [30/May/2025 13:17:40] \"GET /estado HTTP/1.1\" 200 -\n",
      "127.0.0.1 - - [30/May/2025 13:17:40] \"GET /estado HTTP/1.1\" 200 -\n",
      "127.0.0.1 - - [30/May/2025 13:17:41] \"GET /estado HTTP/1.1\" 200 -\n",
      "127.0.0.1 - - [30/May/2025 13:17:41] \"GET /estado HTTP/1.1\" 200 -\n",
      "127.0.0.1 - - [30/May/2025 13:17:41] \"POST /estado HTTP/1.1\" 200 -\n"
     ]
    },
    {
     "name": "stdout",
     "output_type": "stream",
     "text": [
      "Estado recibido: {'estado': 'reposo'}\n"
     ]
    },
    {
     "name": "stderr",
     "output_type": "stream",
     "text": [
      "127.0.0.1 - - [30/May/2025 13:17:42] \"GET /estado HTTP/1.1\" 200 -\n",
      "127.0.0.1 - - [30/May/2025 13:17:42] \"GET /estado HTTP/1.1\" 200 -\n",
      "127.0.0.1 - - [30/May/2025 13:17:42] \"GET /estado HTTP/1.1\" 200 -\n",
      "127.0.0.1 - - [30/May/2025 13:17:43] \"GET /estado HTTP/1.1\" 200 -\n",
      "127.0.0.1 - - [30/May/2025 13:17:43] \"GET /estado HTTP/1.1\" 200 -\n",
      "127.0.0.1 - - [30/May/2025 13:17:43] \"POST /estado HTTP/1.1\" 200 -\n",
      "127.0.0.1 - - [30/May/2025 13:17:43] \"GET /estado HTTP/1.1\" 200 -\n"
     ]
    },
    {
     "name": "stdout",
     "output_type": "stream",
     "text": [
      "Estado recibido: {'estado': 'contracción'}\n"
     ]
    },
    {
     "name": "stderr",
     "output_type": "stream",
     "text": [
      "127.0.0.1 - - [30/May/2025 13:17:44] \"GET /estado HTTP/1.1\" 200 -\n",
      "127.0.0.1 - - [30/May/2025 13:17:44] \"GET /estado HTTP/1.1\" 200 -\n",
      "127.0.0.1 - - [30/May/2025 13:17:44] \"GET /estado HTTP/1.1\" 200 -\n",
      "127.0.0.1 - - [30/May/2025 13:17:45] \"GET /estado HTTP/1.1\" 200 -\n",
      "127.0.0.1 - - [30/May/2025 13:17:45] \"POST /estado HTTP/1.1\" 200 -\n",
      "127.0.0.1 - - [30/May/2025 13:17:45] \"GET /estado HTTP/1.1\" 200 -\n"
     ]
    },
    {
     "name": "stdout",
     "output_type": "stream",
     "text": [
      "Estado recibido: {'estado': 'reposo'}\n"
     ]
    },
    {
     "name": "stderr",
     "output_type": "stream",
     "text": [
      "127.0.0.1 - - [30/May/2025 13:17:46] \"GET /estado HTTP/1.1\" 200 -\n",
      "127.0.0.1 - - [30/May/2025 13:17:46] \"GET /estado HTTP/1.1\" 200 -\n",
      "127.0.0.1 - - [30/May/2025 13:17:47] \"GET /estado HTTP/1.1\" 200 -\n",
      "127.0.0.1 - - [30/May/2025 13:17:47] \"GET /estado HTTP/1.1\" 200 -\n",
      "127.0.0.1 - - [30/May/2025 13:17:47] \"GET /estado HTTP/1.1\" 200 -\n",
      "127.0.0.1 - - [30/May/2025 13:17:48] \"GET /estado HTTP/1.1\" 200 -\n",
      "127.0.0.1 - - [30/May/2025 13:17:48] \"GET /estado HTTP/1.1\" 200 -\n",
      "127.0.0.1 - - [30/May/2025 13:17:49] \"GET /estado HTTP/1.1\" 200 -\n",
      "127.0.0.1 - - [30/May/2025 13:17:49] \"GET /estado HTTP/1.1\" 200 -\n",
      "127.0.0.1 - - [30/May/2025 13:17:49] \"GET /estado HTTP/1.1\" 200 -\n",
      "127.0.0.1 - - [30/May/2025 13:17:50] \"GET /estado HTTP/1.1\" 200 -\n",
      "127.0.0.1 - - [30/May/2025 13:17:50] \"GET /estado HTTP/1.1\" 200 -\n",
      "127.0.0.1 - - [30/May/2025 13:17:50] \"GET /estado HTTP/1.1\" 200 -\n",
      "127.0.0.1 - - [30/May/2025 13:17:51] \"GET /estado HTTP/1.1\" 200 -\n",
      "127.0.0.1 - - [30/May/2025 13:17:51] \"GET /estado HTTP/1.1\" 200 -\n",
      "127.0.0.1 - - [30/May/2025 13:17:52] \"GET /estado HTTP/1.1\" 200 -\n",
      "127.0.0.1 - - [30/May/2025 13:17:52] \"GET /estado HTTP/1.1\" 200 -\n",
      "127.0.0.1 - - [30/May/2025 13:17:53] \"GET /estado HTTP/1.1\" 200 -\n",
      "127.0.0.1 - - [30/May/2025 13:17:53] \"GET /estado HTTP/1.1\" 200 -\n",
      "127.0.0.1 - - [30/May/2025 13:17:53] \"GET /estado HTTP/1.1\" 200 -\n",
      "127.0.0.1 - - [30/May/2025 13:17:54] \"GET /estado HTTP/1.1\" 200 -\n",
      "127.0.0.1 - - [30/May/2025 13:17:54] \"GET /estado HTTP/1.1\" 200 -\n",
      "127.0.0.1 - - [30/May/2025 13:17:55] \"GET /estado HTTP/1.1\" 200 -\n",
      "127.0.0.1 - - [30/May/2025 13:17:55] \"GET /estado HTTP/1.1\" 200 -\n",
      "127.0.0.1 - - [30/May/2025 13:17:55] \"GET /estado HTTP/1.1\" 200 -\n",
      "127.0.0.1 - - [30/May/2025 13:17:56] \"GET /estado HTTP/1.1\" 200 -\n",
      "127.0.0.1 - - [30/May/2025 13:17:56] \"GET /estado HTTP/1.1\" 200 -\n",
      "127.0.0.1 - - [30/May/2025 13:17:56] \"GET /estado HTTP/1.1\" 200 -\n",
      "127.0.0.1 - - [30/May/2025 13:17:57] \"POST /estado HTTP/1.1\" 200 -\n"
     ]
    },
    {
     "name": "stdout",
     "output_type": "stream",
     "text": [
      "Estado recibido: {'estado': 'contracción'}\n"
     ]
    },
    {
     "name": "stderr",
     "output_type": "stream",
     "text": [
      "127.0.0.1 - - [30/May/2025 13:17:57] \"GET /estado HTTP/1.1\" 200 -\n",
      "127.0.0.1 - - [30/May/2025 13:17:57] \"GET /estado HTTP/1.1\" 200 -\n",
      "127.0.0.1 - - [30/May/2025 13:17:58] \"GET /estado HTTP/1.1\" 200 -\n",
      "127.0.0.1 - - [30/May/2025 13:17:58] \"GET /estado HTTP/1.1\" 200 -\n",
      "127.0.0.1 - - [30/May/2025 13:17:59] \"GET /estado HTTP/1.1\" 200 -\n",
      "127.0.0.1 - - [30/May/2025 13:17:59] \"POST /estado HTTP/1.1\" 200 -\n",
      "127.0.0.1 - - [30/May/2025 13:17:59] \"GET /estado HTTP/1.1\" 200 -\n"
     ]
    },
    {
     "name": "stdout",
     "output_type": "stream",
     "text": [
      "Estado recibido: {'estado': 'reposo'}\n"
     ]
    },
    {
     "name": "stderr",
     "output_type": "stream",
     "text": [
      "127.0.0.1 - - [30/May/2025 13:18:00] \"GET /estado HTTP/1.1\" 200 -\n",
      "127.0.0.1 - - [30/May/2025 13:18:00] \"GET /estado HTTP/1.1\" 200 -\n",
      "127.0.0.1 - - [30/May/2025 13:18:00] \"GET /estado HTTP/1.1\" 200 -\n",
      "127.0.0.1 - - [30/May/2025 13:18:01] \"GET /estado HTTP/1.1\" 200 -\n",
      "127.0.0.1 - - [30/May/2025 13:18:01] \"GET /estado HTTP/1.1\" 200 -\n",
      "127.0.0.1 - - [30/May/2025 13:18:01] \"GET /estado HTTP/1.1\" 200 -\n",
      "127.0.0.1 - - [30/May/2025 13:18:02] \"POST /estado HTTP/1.1\" 200 -\n",
      "127.0.0.1 - - [30/May/2025 13:18:02] \"GET /estado HTTP/1.1\" 200 -\n"
     ]
    },
    {
     "name": "stdout",
     "output_type": "stream",
     "text": [
      "Estado recibido: {'estado': 'contracción'}\n"
     ]
    },
    {
     "name": "stderr",
     "output_type": "stream",
     "text": [
      "127.0.0.1 - - [30/May/2025 13:18:02] \"GET /estado HTTP/1.1\" 200 -\n",
      "127.0.0.1 - - [30/May/2025 13:18:02] \"GET /estado HTTP/1.1\" 200 -\n",
      "127.0.0.1 - - [30/May/2025 13:18:03] \"GET /estado HTTP/1.1\" 200 -\n",
      "127.0.0.1 - - [30/May/2025 13:18:03] \"GET /estado HTTP/1.1\" 200 -\n",
      "127.0.0.1 - - [30/May/2025 13:18:04] \"GET /estado HTTP/1.1\" 200 -\n",
      "127.0.0.1 - - [30/May/2025 13:18:04] \"POST /estado HTTP/1.1\" 200 -\n"
     ]
    },
    {
     "name": "stdout",
     "output_type": "stream",
     "text": [
      "Estado recibido: {'estado': 'reposo'}\n"
     ]
    },
    {
     "name": "stderr",
     "output_type": "stream",
     "text": [
      "127.0.0.1 - - [30/May/2025 13:18:04] \"GET /estado HTTP/1.1\" 200 -\n",
      "127.0.0.1 - - [30/May/2025 13:18:05] \"GET /estado HTTP/1.1\" 200 -\n",
      "127.0.0.1 - - [30/May/2025 13:18:05] \"GET /estado HTTP/1.1\" 200 -\n",
      "127.0.0.1 - - [30/May/2025 13:18:06] \"GET /estado HTTP/1.1\" 200 -\n",
      "127.0.0.1 - - [30/May/2025 13:18:06] \"GET /estado HTTP/1.1\" 200 -\n",
      "127.0.0.1 - - [30/May/2025 13:18:06] \"POST /estado HTTP/1.1\" 200 -\n",
      "127.0.0.1 - - [30/May/2025 13:18:06] \"GET /estado HTTP/1.1\" 200 -\n"
     ]
    },
    {
     "name": "stdout",
     "output_type": "stream",
     "text": [
      "Estado recibido: {'estado': 'contracción'}\n"
     ]
    },
    {
     "name": "stderr",
     "output_type": "stream",
     "text": [
      "127.0.0.1 - - [30/May/2025 13:18:07] \"GET /estado HTTP/1.1\" 200 -\n",
      "127.0.0.1 - - [30/May/2025 13:18:07] \"GET /estado HTTP/1.1\" 200 -\n",
      "127.0.0.1 - - [30/May/2025 13:18:07] \"GET /estado HTTP/1.1\" 200 -\n",
      "127.0.0.1 - - [30/May/2025 13:18:08] \"GET /estado HTTP/1.1\" 200 -\n",
      "127.0.0.1 - - [30/May/2025 13:18:08] \"POST /estado HTTP/1.1\" 200 -\n",
      "127.0.0.1 - - [30/May/2025 13:18:08] \"GET /estado HTTP/1.1\" 200 -\n"
     ]
    },
    {
     "name": "stdout",
     "output_type": "stream",
     "text": [
      "Estado recibido: {'estado': 'reposo'}\n"
     ]
    },
    {
     "name": "stderr",
     "output_type": "stream",
     "text": [
      "127.0.0.1 - - [30/May/2025 13:18:08] \"GET /estado HTTP/1.1\" 200 -\n",
      "127.0.0.1 - - [30/May/2025 13:18:09] \"GET /estado HTTP/1.1\" 200 -\n",
      "127.0.0.1 - - [30/May/2025 13:18:09] \"GET /estado HTTP/1.1\" 200 -\n",
      "127.0.0.1 - - [30/May/2025 13:18:10] \"GET /estado HTTP/1.1\" 200 -\n",
      "127.0.0.1 - - [30/May/2025 13:18:10] \"GET /estado HTTP/1.1\" 200 -\n",
      "127.0.0.1 - - [30/May/2025 13:18:11] \"GET /estado HTTP/1.1\" 200 -\n",
      "127.0.0.1 - - [30/May/2025 13:18:11] \"GET /estado HTTP/1.1\" 200 -\n",
      "127.0.0.1 - - [30/May/2025 13:18:12] \"GET /estado HTTP/1.1\" 200 -\n",
      "127.0.0.1 - - [30/May/2025 13:18:12] \"GET /estado HTTP/1.1\" 200 -\n",
      "127.0.0.1 - - [30/May/2025 13:18:12] \"GET /estado HTTP/1.1\" 200 -\n",
      "127.0.0.1 - - [30/May/2025 13:18:13] \"GET /estado HTTP/1.1\" 200 -\n",
      "127.0.0.1 - - [30/May/2025 13:18:13] \"GET /estado HTTP/1.1\" 200 -\n",
      "127.0.0.1 - - [30/May/2025 13:18:13] \"GET /estado HTTP/1.1\" 200 -\n",
      "127.0.0.1 - - [30/May/2025 13:18:14] \"GET /estado HTTP/1.1\" 200 -\n",
      "127.0.0.1 - - [30/May/2025 13:18:14] \"GET /estado HTTP/1.1\" 200 -\n",
      "127.0.0.1 - - [30/May/2025 13:18:14] \"GET /estado HTTP/1.1\" 200 -\n",
      "127.0.0.1 - - [30/May/2025 13:18:15] \"GET /estado HTTP/1.1\" 200 -\n",
      "127.0.0.1 - - [30/May/2025 13:18:15] \"GET /estado HTTP/1.1\" 200 -\n",
      "127.0.0.1 - - [30/May/2025 13:18:16] \"GET /estado HTTP/1.1\" 200 -\n",
      "127.0.0.1 - - [30/May/2025 13:18:16] \"GET /estado HTTP/1.1\" 200 -\n",
      "127.0.0.1 - - [30/May/2025 13:18:17] \"GET /estado HTTP/1.1\" 200 -\n",
      "127.0.0.1 - - [30/May/2025 13:18:17] \"GET /estado HTTP/1.1\" 200 -\n",
      "127.0.0.1 - - [30/May/2025 13:18:17] \"GET /estado HTTP/1.1\" 200 -\n",
      "127.0.0.1 - - [30/May/2025 13:18:18] \"GET /estado HTTP/1.1\" 200 -\n",
      "127.0.0.1 - - [30/May/2025 13:18:18] \"GET /estado HTTP/1.1\" 200 -\n",
      "127.0.0.1 - - [30/May/2025 13:18:19] \"GET /estado HTTP/1.1\" 200 -\n",
      "127.0.0.1 - - [30/May/2025 13:18:19] \"GET /estado HTTP/1.1\" 200 -\n",
      "127.0.0.1 - - [30/May/2025 13:18:19] \"GET /estado HTTP/1.1\" 200 -\n",
      "127.0.0.1 - - [30/May/2025 13:18:20] \"GET /estado HTTP/1.1\" 200 -\n",
      "127.0.0.1 - - [30/May/2025 13:18:20] \"GET /estado HTTP/1.1\" 200 -\n",
      "127.0.0.1 - - [30/May/2025 13:18:20] \"GET /estado HTTP/1.1\" 200 -\n",
      "127.0.0.1 - - [30/May/2025 13:18:21] \"GET /estado HTTP/1.1\" 200 -\n",
      "127.0.0.1 - - [30/May/2025 13:18:21] \"GET /estado HTTP/1.1\" 200 -\n",
      "127.0.0.1 - - [30/May/2025 13:18:22] \"GET /estado HTTP/1.1\" 200 -\n",
      "127.0.0.1 - - [30/May/2025 13:18:22] \"GET /estado HTTP/1.1\" 200 -\n",
      "127.0.0.1 - - [30/May/2025 13:18:23] \"GET /estado HTTP/1.1\" 200 -\n",
      "127.0.0.1 - - [30/May/2025 13:18:23] \"GET /estado HTTP/1.1\" 200 -\n",
      "127.0.0.1 - - [30/May/2025 13:18:24] \"GET /estado HTTP/1.1\" 200 -\n",
      "127.0.0.1 - - [30/May/2025 13:18:24] \"GET /estado HTTP/1.1\" 200 -\n",
      "127.0.0.1 - - [30/May/2025 13:18:24] \"GET /estado HTTP/1.1\" 200 -\n",
      "127.0.0.1 - - [30/May/2025 13:18:25] \"GET /estado HTTP/1.1\" 200 -\n",
      "127.0.0.1 - - [30/May/2025 13:18:25] \"GET /estado HTTP/1.1\" 200 -\n",
      "127.0.0.1 - - [30/May/2025 13:18:25] \"GET /estado HTTP/1.1\" 200 -\n",
      "127.0.0.1 - - [30/May/2025 13:18:26] \"GET /estado HTTP/1.1\" 200 -\n",
      "127.0.0.1 - - [30/May/2025 13:18:26] \"GET /estado HTTP/1.1\" 200 -\n",
      "127.0.0.1 - - [30/May/2025 13:18:26] \"GET /estado HTTP/1.1\" 200 -\n",
      "127.0.0.1 - - [30/May/2025 13:18:27] \"GET /estado HTTP/1.1\" 200 -\n",
      "127.0.0.1 - - [30/May/2025 13:18:27] \"GET /estado HTTP/1.1\" 200 -\n",
      "127.0.0.1 - - [30/May/2025 13:18:28] \"GET /estado HTTP/1.1\" 200 -\n",
      "127.0.0.1 - - [30/May/2025 13:18:28] \"GET /estado HTTP/1.1\" 200 -\n",
      "127.0.0.1 - - [30/May/2025 13:18:29] \"GET /estado HTTP/1.1\" 200 -\n",
      "127.0.0.1 - - [30/May/2025 13:18:29] \"GET /estado HTTP/1.1\" 200 -\n",
      "127.0.0.1 - - [30/May/2025 13:18:30] \"GET /estado HTTP/1.1\" 200 -\n",
      "127.0.0.1 - - [30/May/2025 13:18:30] \"GET /estado HTTP/1.1\" 200 -\n",
      "127.0.0.1 - - [30/May/2025 13:18:30] \"GET /estado HTTP/1.1\" 200 -\n",
      "127.0.0.1 - - [30/May/2025 13:18:31] \"GET /estado HTTP/1.1\" 200 -\n",
      "127.0.0.1 - - [30/May/2025 13:18:31] \"GET /estado HTTP/1.1\" 200 -\n",
      "127.0.0.1 - - [30/May/2025 13:18:31] \"GET /estado HTTP/1.1\" 200 -\n",
      "127.0.0.1 - - [30/May/2025 13:18:32] \"GET /estado HTTP/1.1\" 200 -\n",
      "127.0.0.1 - - [30/May/2025 13:18:32] \"GET /estado HTTP/1.1\" 200 -\n",
      "127.0.0.1 - - [30/May/2025 13:18:32] \"GET /estado HTTP/1.1\" 200 -\n",
      "127.0.0.1 - - [30/May/2025 13:18:33] \"GET /estado HTTP/1.1\" 200 -\n",
      "127.0.0.1 - - [30/May/2025 13:18:33] \"GET /estado HTTP/1.1\" 200 -\n",
      "127.0.0.1 - - [30/May/2025 13:18:34] \"GET /estado HTTP/1.1\" 200 -\n",
      "127.0.0.1 - - [30/May/2025 13:18:34] \"GET /estado HTTP/1.1\" 200 -\n",
      "127.0.0.1 - - [30/May/2025 13:18:35] \"GET /estado HTTP/1.1\" 200 -\n",
      "127.0.0.1 - - [30/May/2025 13:18:35] \"GET /estado HTTP/1.1\" 200 -\n",
      "127.0.0.1 - - [30/May/2025 13:18:35] \"GET /estado HTTP/1.1\" 200 -\n",
      "127.0.0.1 - - [30/May/2025 13:18:36] \"GET /estado HTTP/1.1\" 200 -\n",
      "127.0.0.1 - - [30/May/2025 13:18:36] \"GET /estado HTTP/1.1\" 200 -\n",
      "127.0.0.1 - - [30/May/2025 13:18:37] \"GET /estado HTTP/1.1\" 200 -\n",
      "127.0.0.1 - - [30/May/2025 13:18:37] \"GET /estado HTTP/1.1\" 200 -\n",
      "127.0.0.1 - - [30/May/2025 13:18:37] \"GET /estado HTTP/1.1\" 200 -\n",
      "127.0.0.1 - - [30/May/2025 13:18:38] \"GET /estado HTTP/1.1\" 200 -\n",
      "127.0.0.1 - - [30/May/2025 13:18:38] \"GET /estado HTTP/1.1\" 200 -\n",
      "127.0.0.1 - - [30/May/2025 13:18:38] \"GET /estado HTTP/1.1\" 200 -\n",
      "127.0.0.1 - - [30/May/2025 13:18:39] \"GET /estado HTTP/1.1\" 200 -\n",
      "127.0.0.1 - - [30/May/2025 13:18:39] \"GET /estado HTTP/1.1\" 200 -\n",
      "127.0.0.1 - - [30/May/2025 13:18:40] \"GET /estado HTTP/1.1\" 200 -\n",
      "127.0.0.1 - - [30/May/2025 13:18:40] \"GET /estado HTTP/1.1\" 200 -\n",
      "127.0.0.1 - - [30/May/2025 13:18:41] \"GET /estado HTTP/1.1\" 200 -\n",
      "127.0.0.1 - - [30/May/2025 13:18:41] \"GET /estado HTTP/1.1\" 200 -\n",
      "127.0.0.1 - - [30/May/2025 13:18:41] \"POST /estado HTTP/1.1\" 200 -\n"
     ]
    },
    {
     "name": "stdout",
     "output_type": "stream",
     "text": [
      "Estado recibido: {'estado': 'contracción'}\n"
     ]
    },
    {
     "name": "stderr",
     "output_type": "stream",
     "text": [
      "127.0.0.1 - - [30/May/2025 13:18:42] \"GET /estado HTTP/1.1\" 200 -\n",
      "127.0.0.1 - - [30/May/2025 13:18:42] \"GET /estado HTTP/1.1\" 200 -\n",
      "127.0.0.1 - - [30/May/2025 13:18:42] \"GET /estado HTTP/1.1\" 200 -\n",
      "127.0.0.1 - - [30/May/2025 13:18:43] \"GET /estado HTTP/1.1\" 200 -\n",
      "127.0.0.1 - - [30/May/2025 13:18:43] \"POST /estado HTTP/1.1\" 200 -\n",
      "127.0.0.1 - - [30/May/2025 13:18:43] \"GET /estado HTTP/1.1\" 200 -\n"
     ]
    },
    {
     "name": "stdout",
     "output_type": "stream",
     "text": [
      "Estado recibido: {'estado': 'reposo'}\n"
     ]
    },
    {
     "name": "stderr",
     "output_type": "stream",
     "text": [
      "127.0.0.1 - - [30/May/2025 13:18:43] \"GET /estado HTTP/1.1\" 200 -\n",
      "127.0.0.1 - - [30/May/2025 13:18:44] \"GET /estado HTTP/1.1\" 200 -\n",
      "127.0.0.1 - - [30/May/2025 13:18:44] \"GET /estado HTTP/1.1\" 200 -\n",
      "127.0.0.1 - - [30/May/2025 13:18:44] \"GET /estado HTTP/1.1\" 200 -\n",
      "127.0.0.1 - - [30/May/2025 13:18:45] \"GET /estado HTTP/1.1\" 200 -\n",
      "127.0.0.1 - - [30/May/2025 13:18:45] \"POST /estado HTTP/1.1\" 200 -\n",
      "127.0.0.1 - - [30/May/2025 13:18:45] \"GET /estado HTTP/1.1\" 200 -\n"
     ]
    },
    {
     "name": "stdout",
     "output_type": "stream",
     "text": [
      "Estado recibido: {'estado': 'contracción'}\n"
     ]
    },
    {
     "name": "stderr",
     "output_type": "stream",
     "text": [
      "127.0.0.1 - - [30/May/2025 13:18:46] \"GET /estado HTTP/1.1\" 200 -\n",
      "127.0.0.1 - - [30/May/2025 13:18:46] \"GET /estado HTTP/1.1\" 200 -\n",
      "127.0.0.1 - - [30/May/2025 13:18:47] \"GET /estado HTTP/1.1\" 200 -\n",
      "127.0.0.1 - - [30/May/2025 13:18:47] \"GET /estado HTTP/1.1\" 200 -\n",
      "127.0.0.1 - - [30/May/2025 13:18:47] \"POST /estado HTTP/1.1\" 200 -\n"
     ]
    },
    {
     "name": "stdout",
     "output_type": "stream",
     "text": [
      "Estado recibido: {'estado': 'reposo'}\n"
     ]
    },
    {
     "name": "stderr",
     "output_type": "stream",
     "text": [
      "127.0.0.1 - - [30/May/2025 13:18:47] \"GET /estado HTTP/1.1\" 200 -\n",
      "127.0.0.1 - - [30/May/2025 13:18:48] \"GET /estado HTTP/1.1\" 200 -\n",
      "127.0.0.1 - - [30/May/2025 13:18:48] \"GET /estado HTTP/1.1\" 200 -\n",
      "127.0.0.1 - - [30/May/2025 13:18:49] \"GET /estado HTTP/1.1\" 200 -\n",
      "127.0.0.1 - - [30/May/2025 13:18:49] \"GET /estado HTTP/1.1\" 200 -\n",
      "127.0.0.1 - - [30/May/2025 13:18:49] \"GET /estado HTTP/1.1\" 200 -\n",
      "127.0.0.1 - - [30/May/2025 13:18:50] \"GET /estado HTTP/1.1\" 200 -\n",
      "127.0.0.1 - - [30/May/2025 13:18:50] \"GET /estado HTTP/1.1\" 200 -\n",
      "127.0.0.1 - - [30/May/2025 13:18:50] \"GET /estado HTTP/1.1\" 200 -\n",
      "127.0.0.1 - - [30/May/2025 13:18:51] \"GET /estado HTTP/1.1\" 200 -\n",
      "127.0.0.1 - - [30/May/2025 13:18:51] \"GET /estado HTTP/1.1\" 200 -\n",
      "127.0.0.1 - - [30/May/2025 13:18:52] \"GET /estado HTTP/1.1\" 200 -\n",
      "127.0.0.1 - - [30/May/2025 13:18:52] \"GET /estado HTTP/1.1\" 200 -\n",
      "127.0.0.1 - - [30/May/2025 13:18:53] \"GET /estado HTTP/1.1\" 200 -\n",
      "127.0.0.1 - - [30/May/2025 13:18:56] \"POST /estado HTTP/1.1\" 200 -\n"
     ]
    },
    {
     "name": "stdout",
     "output_type": "stream",
     "text": [
      "Estado recibido: {'estado': 'contracción'}\n"
     ]
    },
    {
     "name": "stderr",
     "output_type": "stream",
     "text": [
      "127.0.0.1 - - [30/May/2025 13:18:58] \"POST /estado HTTP/1.1\" 200 -\n"
     ]
    },
    {
     "name": "stdout",
     "output_type": "stream",
     "text": [
      "Estado recibido: {'estado': 'reposo'}\n"
     ]
    },
    {
     "name": "stderr",
     "output_type": "stream",
     "text": [
      "127.0.0.1 - - [30/May/2025 13:19:00] \"POST /estado HTTP/1.1\" 200 -\n"
     ]
    },
    {
     "name": "stdout",
     "output_type": "stream",
     "text": [
      "Estado recibido: {'estado': 'contracción'}\n"
     ]
    },
    {
     "name": "stderr",
     "output_type": "stream",
     "text": [
      "127.0.0.1 - - [30/May/2025 13:19:03] \"POST /estado HTTP/1.1\" 200 -\n"
     ]
    },
    {
     "name": "stdout",
     "output_type": "stream",
     "text": [
      "Estado recibido: {'estado': 'reposo'}\n"
     ]
    },
    {
     "name": "stderr",
     "output_type": "stream",
     "text": [
      "127.0.0.1 - - [30/May/2025 13:19:06] \"POST /estado HTTP/1.1\" 200 -\n"
     ]
    },
    {
     "name": "stdout",
     "output_type": "stream",
     "text": [
      "Estado recibido: {'estado': 'contracción'}\n"
     ]
    },
    {
     "name": "stderr",
     "output_type": "stream",
     "text": [
      "127.0.0.1 - - [30/May/2025 13:19:08] \"POST /estado HTTP/1.1\" 200 -\n"
     ]
    },
    {
     "name": "stdout",
     "output_type": "stream",
     "text": [
      "Estado recibido: {'estado': 'reposo'}\n"
     ]
    },
    {
     "name": "stderr",
     "output_type": "stream",
     "text": [
      "127.0.0.1 - - [30/May/2025 13:19:11] \"POST /estado HTTP/1.1\" 200 -\n"
     ]
    },
    {
     "name": "stdout",
     "output_type": "stream",
     "text": [
      "Estado recibido: {'estado': 'contracción'}\n"
     ]
    },
    {
     "name": "stderr",
     "output_type": "stream",
     "text": [
      "127.0.0.1 - - [30/May/2025 13:19:13] \"POST /estado HTTP/1.1\" 200 -\n"
     ]
    },
    {
     "name": "stdout",
     "output_type": "stream",
     "text": [
      "Estado recibido: {'estado': 'reposo'}\n"
     ]
    },
    {
     "name": "stderr",
     "output_type": "stream",
     "text": [
      "127.0.0.1 - - [30/May/2025 13:19:15] \"POST /estado HTTP/1.1\" 200 -\n"
     ]
    },
    {
     "name": "stdout",
     "output_type": "stream",
     "text": [
      "Estado recibido: {'estado': 'contracción'}\n"
     ]
    },
    {
     "name": "stderr",
     "output_type": "stream",
     "text": [
      "127.0.0.1 - - [30/May/2025 13:19:17] \"POST /estado HTTP/1.1\" 200 -\n"
     ]
    },
    {
     "name": "stdout",
     "output_type": "stream",
     "text": [
      "Estado recibido: {'estado': 'reposo'}\n"
     ]
    }
   ],
   "source": [
    "app = Flask(__name__)\n",
    "CORS(app, resources={r\"/*\": {\"origins\": \"http://localhost:5173\"}})  \n",
    "\n",
    "ultimo_estado = {\"estado\": \"Sin datos\"}\n",
    "\n",
    "@app.route('/estado', methods=['POST'])\n",
    "def recibir_estado():\n",
    "    global ultimo_estado\n",
    "    data = request.get_json()\n",
    "    ultimo_estado = data\n",
    "    print(f\"Estado recibido: {data}\")\n",
    "    return jsonify({\"mensaje\": \"Estado recibido\"}), 200\n",
    "\n",
    "@app.route('/estado', methods=['GET'])\n",
    "def enviar_estado():\n",
    "    return jsonify(ultimo_estado)\n",
    "\n",
    "if __name__ == '__main__':\n",
    "    app.run(host='0.0.0.0', port=5000)"
   ]
  },
  {
   "cell_type": "code",
   "execution_count": null,
   "id": "ae0515c5",
   "metadata": {},
   "outputs": [],
   "source": []
  }
 ],
 "metadata": {
  "kernelspec": {
   "display_name": "Python 3",
   "language": "python",
   "name": "python3"
  },
  "language_info": {
   "codemirror_mode": {
    "name": "ipython",
    "version": 3
   },
   "file_extension": ".py",
   "mimetype": "text/x-python",
   "name": "python",
   "nbconvert_exporter": "python",
   "pygments_lexer": "ipython3",
   "version": "3.11.0"
  }
 },
 "nbformat": 4,
 "nbformat_minor": 5
}
